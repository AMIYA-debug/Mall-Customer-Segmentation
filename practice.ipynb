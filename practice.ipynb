{
 "cells": [
  {
   "cell_type": "code",
   "execution_count": 2,
   "id": "1dc654fb",
   "metadata": {},
   "outputs": [
    {
     "data": {
      "text/html": [
       "<div>\n",
       "<style scoped>\n",
       "    .dataframe tbody tr th:only-of-type {\n",
       "        vertical-align: middle;\n",
       "    }\n",
       "\n",
       "    .dataframe tbody tr th {\n",
       "        vertical-align: top;\n",
       "    }\n",
       "\n",
       "    .dataframe thead th {\n",
       "        text-align: right;\n",
       "    }\n",
       "</style>\n",
       "<table border=\"1\" class=\"dataframe\">\n",
       "  <thead>\n",
       "    <tr style=\"text-align: right;\">\n",
       "      <th></th>\n",
       "      <th>CustomerID</th>\n",
       "      <th>Genre</th>\n",
       "      <th>Age</th>\n",
       "      <th>Annual Income (k$)</th>\n",
       "      <th>Spending Score (1-100)</th>\n",
       "    </tr>\n",
       "  </thead>\n",
       "  <tbody>\n",
       "    <tr>\n",
       "      <th>0</th>\n",
       "      <td>1</td>\n",
       "      <td>Male</td>\n",
       "      <td>19</td>\n",
       "      <td>15</td>\n",
       "      <td>39</td>\n",
       "    </tr>\n",
       "    <tr>\n",
       "      <th>1</th>\n",
       "      <td>2</td>\n",
       "      <td>Male</td>\n",
       "      <td>21</td>\n",
       "      <td>15</td>\n",
       "      <td>81</td>\n",
       "    </tr>\n",
       "    <tr>\n",
       "      <th>2</th>\n",
       "      <td>3</td>\n",
       "      <td>Female</td>\n",
       "      <td>20</td>\n",
       "      <td>16</td>\n",
       "      <td>6</td>\n",
       "    </tr>\n",
       "    <tr>\n",
       "      <th>3</th>\n",
       "      <td>4</td>\n",
       "      <td>Female</td>\n",
       "      <td>23</td>\n",
       "      <td>16</td>\n",
       "      <td>77</td>\n",
       "    </tr>\n",
       "    <tr>\n",
       "      <th>4</th>\n",
       "      <td>5</td>\n",
       "      <td>Female</td>\n",
       "      <td>31</td>\n",
       "      <td>17</td>\n",
       "      <td>40</td>\n",
       "    </tr>\n",
       "    <tr>\n",
       "      <th>...</th>\n",
       "      <td>...</td>\n",
       "      <td>...</td>\n",
       "      <td>...</td>\n",
       "      <td>...</td>\n",
       "      <td>...</td>\n",
       "    </tr>\n",
       "    <tr>\n",
       "      <th>195</th>\n",
       "      <td>196</td>\n",
       "      <td>Female</td>\n",
       "      <td>35</td>\n",
       "      <td>120</td>\n",
       "      <td>79</td>\n",
       "    </tr>\n",
       "    <tr>\n",
       "      <th>196</th>\n",
       "      <td>197</td>\n",
       "      <td>Female</td>\n",
       "      <td>45</td>\n",
       "      <td>126</td>\n",
       "      <td>28</td>\n",
       "    </tr>\n",
       "    <tr>\n",
       "      <th>197</th>\n",
       "      <td>198</td>\n",
       "      <td>Male</td>\n",
       "      <td>32</td>\n",
       "      <td>126</td>\n",
       "      <td>74</td>\n",
       "    </tr>\n",
       "    <tr>\n",
       "      <th>198</th>\n",
       "      <td>199</td>\n",
       "      <td>Male</td>\n",
       "      <td>32</td>\n",
       "      <td>137</td>\n",
       "      <td>18</td>\n",
       "    </tr>\n",
       "    <tr>\n",
       "      <th>199</th>\n",
       "      <td>200</td>\n",
       "      <td>Male</td>\n",
       "      <td>30</td>\n",
       "      <td>137</td>\n",
       "      <td>83</td>\n",
       "    </tr>\n",
       "  </tbody>\n",
       "</table>\n",
       "<p>200 rows × 5 columns</p>\n",
       "</div>"
      ],
      "text/plain": [
       "     CustomerID   Genre  Age  Annual Income (k$)  Spending Score (1-100)\n",
       "0             1    Male   19                  15                      39\n",
       "1             2    Male   21                  15                      81\n",
       "2             3  Female   20                  16                       6\n",
       "3             4  Female   23                  16                      77\n",
       "4             5  Female   31                  17                      40\n",
       "..          ...     ...  ...                 ...                     ...\n",
       "195         196  Female   35                 120                      79\n",
       "196         197  Female   45                 126                      28\n",
       "197         198    Male   32                 126                      74\n",
       "198         199    Male   32                 137                      18\n",
       "199         200    Male   30                 137                      83\n",
       "\n",
       "[200 rows x 5 columns]"
      ]
     },
     "execution_count": 2,
     "metadata": {},
     "output_type": "execute_result"
    }
   ],
   "source": [
    "import numpy as np\n",
    "import pandas as pd\n",
    "import matplotlib.pyplot as plt\n",
    "import seaborn as sns\n",
    "df=pd.read_csv('Mall_Customers.csv')\n",
    "df"
   ]
  },
  {
   "cell_type": "code",
   "execution_count": 3,
   "id": "aac4e6ed",
   "metadata": {},
   "outputs": [],
   "source": [
    "df.drop(['CustomerID'],axis=1,inplace=True)"
   ]
  },
  {
   "cell_type": "code",
   "execution_count": 4,
   "id": "773a8417",
   "metadata": {},
   "outputs": [
    {
     "data": {
      "text/html": [
       "<div>\n",
       "<style scoped>\n",
       "    .dataframe tbody tr th:only-of-type {\n",
       "        vertical-align: middle;\n",
       "    }\n",
       "\n",
       "    .dataframe tbody tr th {\n",
       "        vertical-align: top;\n",
       "    }\n",
       "\n",
       "    .dataframe thead th {\n",
       "        text-align: right;\n",
       "    }\n",
       "</style>\n",
       "<table border=\"1\" class=\"dataframe\">\n",
       "  <thead>\n",
       "    <tr style=\"text-align: right;\">\n",
       "      <th></th>\n",
       "      <th>Genre</th>\n",
       "      <th>Age</th>\n",
       "      <th>Annual Income (k$)</th>\n",
       "      <th>Spending Score (1-100)</th>\n",
       "    </tr>\n",
       "  </thead>\n",
       "  <tbody>\n",
       "    <tr>\n",
       "      <th>0</th>\n",
       "      <td>Male</td>\n",
       "      <td>19</td>\n",
       "      <td>15</td>\n",
       "      <td>39</td>\n",
       "    </tr>\n",
       "    <tr>\n",
       "      <th>1</th>\n",
       "      <td>Male</td>\n",
       "      <td>21</td>\n",
       "      <td>15</td>\n",
       "      <td>81</td>\n",
       "    </tr>\n",
       "    <tr>\n",
       "      <th>2</th>\n",
       "      <td>Female</td>\n",
       "      <td>20</td>\n",
       "      <td>16</td>\n",
       "      <td>6</td>\n",
       "    </tr>\n",
       "    <tr>\n",
       "      <th>3</th>\n",
       "      <td>Female</td>\n",
       "      <td>23</td>\n",
       "      <td>16</td>\n",
       "      <td>77</td>\n",
       "    </tr>\n",
       "    <tr>\n",
       "      <th>4</th>\n",
       "      <td>Female</td>\n",
       "      <td>31</td>\n",
       "      <td>17</td>\n",
       "      <td>40</td>\n",
       "    </tr>\n",
       "    <tr>\n",
       "      <th>...</th>\n",
       "      <td>...</td>\n",
       "      <td>...</td>\n",
       "      <td>...</td>\n",
       "      <td>...</td>\n",
       "    </tr>\n",
       "    <tr>\n",
       "      <th>195</th>\n",
       "      <td>Female</td>\n",
       "      <td>35</td>\n",
       "      <td>120</td>\n",
       "      <td>79</td>\n",
       "    </tr>\n",
       "    <tr>\n",
       "      <th>196</th>\n",
       "      <td>Female</td>\n",
       "      <td>45</td>\n",
       "      <td>126</td>\n",
       "      <td>28</td>\n",
       "    </tr>\n",
       "    <tr>\n",
       "      <th>197</th>\n",
       "      <td>Male</td>\n",
       "      <td>32</td>\n",
       "      <td>126</td>\n",
       "      <td>74</td>\n",
       "    </tr>\n",
       "    <tr>\n",
       "      <th>198</th>\n",
       "      <td>Male</td>\n",
       "      <td>32</td>\n",
       "      <td>137</td>\n",
       "      <td>18</td>\n",
       "    </tr>\n",
       "    <tr>\n",
       "      <th>199</th>\n",
       "      <td>Male</td>\n",
       "      <td>30</td>\n",
       "      <td>137</td>\n",
       "      <td>83</td>\n",
       "    </tr>\n",
       "  </tbody>\n",
       "</table>\n",
       "<p>200 rows × 4 columns</p>\n",
       "</div>"
      ],
      "text/plain": [
       "      Genre  Age  Annual Income (k$)  Spending Score (1-100)\n",
       "0      Male   19                  15                      39\n",
       "1      Male   21                  15                      81\n",
       "2    Female   20                  16                       6\n",
       "3    Female   23                  16                      77\n",
       "4    Female   31                  17                      40\n",
       "..      ...  ...                 ...                     ...\n",
       "195  Female   35                 120                      79\n",
       "196  Female   45                 126                      28\n",
       "197    Male   32                 126                      74\n",
       "198    Male   32                 137                      18\n",
       "199    Male   30                 137                      83\n",
       "\n",
       "[200 rows x 4 columns]"
      ]
     },
     "execution_count": 4,
     "metadata": {},
     "output_type": "execute_result"
    }
   ],
   "source": [
    "df"
   ]
  },
  {
   "cell_type": "code",
   "execution_count": 5,
   "id": "1810f70a",
   "metadata": {},
   "outputs": [],
   "source": [
    "x=df.iloc[:,[2,3]]\n"
   ]
  },
  {
   "cell_type": "code",
   "execution_count": 6,
   "id": "1d655f4f",
   "metadata": {},
   "outputs": [
    {
     "data": {
      "text/html": [
       "<div>\n",
       "<style scoped>\n",
       "    .dataframe tbody tr th:only-of-type {\n",
       "        vertical-align: middle;\n",
       "    }\n",
       "\n",
       "    .dataframe tbody tr th {\n",
       "        vertical-align: top;\n",
       "    }\n",
       "\n",
       "    .dataframe thead th {\n",
       "        text-align: right;\n",
       "    }\n",
       "</style>\n",
       "<table border=\"1\" class=\"dataframe\">\n",
       "  <thead>\n",
       "    <tr style=\"text-align: right;\">\n",
       "      <th></th>\n",
       "      <th>Annual Income (k$)</th>\n",
       "      <th>Spending Score (1-100)</th>\n",
       "    </tr>\n",
       "  </thead>\n",
       "  <tbody>\n",
       "    <tr>\n",
       "      <th>0</th>\n",
       "      <td>15</td>\n",
       "      <td>39</td>\n",
       "    </tr>\n",
       "    <tr>\n",
       "      <th>1</th>\n",
       "      <td>15</td>\n",
       "      <td>81</td>\n",
       "    </tr>\n",
       "    <tr>\n",
       "      <th>2</th>\n",
       "      <td>16</td>\n",
       "      <td>6</td>\n",
       "    </tr>\n",
       "    <tr>\n",
       "      <th>3</th>\n",
       "      <td>16</td>\n",
       "      <td>77</td>\n",
       "    </tr>\n",
       "    <tr>\n",
       "      <th>4</th>\n",
       "      <td>17</td>\n",
       "      <td>40</td>\n",
       "    </tr>\n",
       "    <tr>\n",
       "      <th>...</th>\n",
       "      <td>...</td>\n",
       "      <td>...</td>\n",
       "    </tr>\n",
       "    <tr>\n",
       "      <th>195</th>\n",
       "      <td>120</td>\n",
       "      <td>79</td>\n",
       "    </tr>\n",
       "    <tr>\n",
       "      <th>196</th>\n",
       "      <td>126</td>\n",
       "      <td>28</td>\n",
       "    </tr>\n",
       "    <tr>\n",
       "      <th>197</th>\n",
       "      <td>126</td>\n",
       "      <td>74</td>\n",
       "    </tr>\n",
       "    <tr>\n",
       "      <th>198</th>\n",
       "      <td>137</td>\n",
       "      <td>18</td>\n",
       "    </tr>\n",
       "    <tr>\n",
       "      <th>199</th>\n",
       "      <td>137</td>\n",
       "      <td>83</td>\n",
       "    </tr>\n",
       "  </tbody>\n",
       "</table>\n",
       "<p>200 rows × 2 columns</p>\n",
       "</div>"
      ],
      "text/plain": [
       "     Annual Income (k$)  Spending Score (1-100)\n",
       "0                    15                      39\n",
       "1                    15                      81\n",
       "2                    16                       6\n",
       "3                    16                      77\n",
       "4                    17                      40\n",
       "..                  ...                     ...\n",
       "195                 120                      79\n",
       "196                 126                      28\n",
       "197                 126                      74\n",
       "198                 137                      18\n",
       "199                 137                      83\n",
       "\n",
       "[200 rows x 2 columns]"
      ]
     },
     "execution_count": 6,
     "metadata": {},
     "output_type": "execute_result"
    }
   ],
   "source": [
    "x"
   ]
  },
  {
   "cell_type": "code",
   "execution_count": 7,
   "id": "93a844d8",
   "metadata": {},
   "outputs": [],
   "source": [
    "from sklearn.model_selection import train_test_split\n",
    "x_train,x_test=train_test_split(x,test_size=0.3,random_state=42)\n",
    "from sklearn.preprocessing import StandardScaler\n",
    "scaler=StandardScaler()\n",
    "x_train=scaler.fit_transform(x_train)\n",
    "x_test=scaler.transform(x_test)\n"
   ]
  },
  {
   "cell_type": "code",
   "execution_count": 8,
   "id": "20ac515b",
   "metadata": {},
   "outputs": [
    {
     "data": {
      "text/plain": [
       "array([[ 0.98322099,  0.4438231 ],\n",
       "       [-0.01051573, -0.05203819],\n",
       "       [-1.11466765,  0.82525485],\n",
       "       [-1.48271829, -1.38704935],\n",
       "       [-1.00425246,  1.13040026],\n",
       "       [ 0.24711972,  0.21496404],\n",
       "       [-0.78342208, -0.58604265],\n",
       "       [ 1.57210202,  1.28297297],\n",
       "       [-0.0473208 ,  0.13867769],\n",
       "       [ 0.4679501 , -1.69219475],\n",
       "       [-0.67300688,  0.32939357],\n",
       "       [ 0.39433997,  1.66440472],\n",
       "       [ 0.76239061, -1.7684811 ],\n",
       "       [-0.82022714,  1.5499752 ],\n",
       "       [ 0.24711972, -0.31904042],\n",
       "       [ 0.13670452, -0.20461089],\n",
       "       [-1.18827778, -0.73861536],\n",
       "       [ 0.50475516,  0.78711168],\n",
       "       [ 0.0630944 , -0.39532677],\n",
       "       [ 0.09989946,  0.10053451],\n",
       "       [-1.62993855, -1.73033793],\n",
       "       [-0.23134612, -0.12832454],\n",
       "       [-0.74661701,  0.13867769],\n",
       "       [ 1.49849189,  0.63453898],\n",
       "       [ 1.57210202,  0.67268215],\n",
       "       [-0.23134612, -0.20461089],\n",
       "       [ 0.68878048,  1.20668661],\n",
       "       [-0.9674474 , -1.31076299],\n",
       "       [ 1.57210202, -1.08190394],\n",
       "       [-0.52578663,  0.13867769],\n",
       "       [-1.29869297, -1.7684811 ],\n",
       "       [ 0.54156023,  1.58811837],\n",
       "       [ 0.0630944 , -0.12832454],\n",
       "       [-1.00425246,  1.5499752 ],\n",
       "       [-1.51952335,  1.81697743],\n",
       "       [ 2.1977881 , -1.34890617],\n",
       "       [ 0.65197542,  0.82525485],\n",
       "       [-1.55632842, -1.73033793],\n",
       "       [-1.18827778,  0.36753674],\n",
       "       [ 0.24711972,  0.17682087],\n",
       "       [-1.59313348, -0.43346995],\n",
       "       [-1.00425246, -1.80662428],\n",
       "       [ 0.57836529, -0.43346995],\n",
       "       [ 0.61517035,  1.74069108],\n",
       "       [ 0.09989946, -0.12832454],\n",
       "       [ 0.61517035, -1.50147887],\n",
       "       [-1.51952335, -1.42519252],\n",
       "       [-0.48898156,  0.02424816],\n",
       "       [ 0.13670452, -0.3571836 ],\n",
       "       [ 0.61517035, -0.58604265],\n",
       "       [ 0.94641593, -1.19633347],\n",
       "       [-1.66674361, -0.47161312],\n",
       "       [ 2.82347419, -1.27261982],\n",
       "       [ 0.65197542,  0.93968438],\n",
       "       [-0.41537144,  0.13867769],\n",
       "       [ 0.32072984,  1.51183202],\n",
       "       [-0.4521765 , -0.01389501],\n",
       "       [-0.78342208, -0.89118806],\n",
       "       [ 0.76239061,  1.58811837],\n",
       "       [-1.15147272, -0.77675853],\n",
       "       [-0.82022714, -0.62418583],\n",
       "       [ 0.09989946, -0.31904042],\n",
       "       [ 0.65197542,  1.43554567],\n",
       "       [ 0.65197542, -1.92105381],\n",
       "       [-1.18827778,  1.16854344],\n",
       "       [-1.29869297,  0.82525485],\n",
       "       [ 1.42488176, -0.47161312],\n",
       "       [ 0.61517035,  0.86339803],\n",
       "       [-0.23134612,  0.13867769],\n",
       "       [-0.8570322 ,  0.90154121],\n",
       "       [ 0.98322099, -0.92933123],\n",
       "       [-0.74661701, -0.16646772],\n",
       "       [-0.01051573, -0.3571836 ],\n",
       "       [ 0.65197542, -1.34890617],\n",
       "       [-0.78342208,  0.36753674],\n",
       "       [ 0.50475516, -1.57776522],\n",
       "       [-1.62993855,  0.97782756],\n",
       "       [ 0.0630944 , -0.3571836 ],\n",
       "       [-0.63620182,  0.32939357],\n",
       "       [ 0.43114503,  0.7489685 ],\n",
       "       [ 1.35127163, -0.73861536],\n",
       "       [ 1.20405138, -1.42519252],\n",
       "       [ 1.42488176,  1.74069108],\n",
       "       [-0.74661701, -0.3571836 ],\n",
       "       [-0.23134612, -0.01389501],\n",
       "       [-1.00425246, -1.42519252],\n",
       "       [-1.55632842,  1.62626155],\n",
       "       [ 0.09989946,  0.02424816],\n",
       "       [-0.0473208 , -0.39532677],\n",
       "       [-0.23134612, -0.28089725],\n",
       "       [ 1.02002606, -1.38704935],\n",
       "       [ 1.35127163,  1.32111614],\n",
       "       [-0.08412586, -0.20461089],\n",
       "       [-1.51952335, -1.84476746],\n",
       "       [-1.48271829,  0.97782756],\n",
       "       [-0.52578663, -0.20461089],\n",
       "       [ 0.98322099,  0.90154121],\n",
       "       [ 0.39433997,  0.90154121],\n",
       "       [-1.44591323,  0.55825262],\n",
       "       [-0.37856637, -0.09018137],\n",
       "       [ 1.02002606,  1.32111614],\n",
       "       [ 0.4679501 , -1.7684811 ],\n",
       "       [ 0.94641593,  1.66440472],\n",
       "       [ 1.3880767 ,  1.39740249],\n",
       "       [-0.48898156,  0.29125039],\n",
       "       [-0.63620182, -0.24275407],\n",
       "       [ 0.09989946, -0.20461089],\n",
       "       [-0.67300688,  0.02424816],\n",
       "       [ 2.41861849, -0.89118806],\n",
       "       [-0.52578663, -0.01389501],\n",
       "       [-0.74661701, -0.3571836 ],\n",
       "       [-0.08412586,  0.32939357],\n",
       "       [-1.33549803,  0.82525485],\n",
       "       [-0.59939676, -0.20461089],\n",
       "       [ 0.68878048, -0.62418583],\n",
       "       [ 1.94015266, -1.65405158],\n",
       "       [ 0.39433997,  0.90154121],\n",
       "       [-0.9674474 ,  0.82525485],\n",
       "       [ 0.65197542,  1.01597073],\n",
       "       [ 1.94015266,  1.51183202],\n",
       "       [-1.66674361,  1.13040026],\n",
       "       [-0.63620182,  0.10053451],\n",
       "       [ 0.65197542,  1.47368884],\n",
       "       [ 0.39433997, -1.6159084 ],\n",
       "       [ 0.65197542,  1.39740249],\n",
       "       [ 0.0630944 ,  0.13867769],\n",
       "       [ 0.02628933, -0.09018137],\n",
       "       [ 0.17350959, -0.31904042],\n",
       "       [-0.12093092,  0.13867769],\n",
       "       [-0.23134612, -0.16646772],\n",
       "       [ 0.24711972, -0.43346995],\n",
       "       [ 2.82347419,  1.20668661],\n",
       "       [-1.33549803, -0.62418583],\n",
       "       [ 1.57210202, -1.31076299],\n",
       "       [-0.41537144, -0.3571836 ],\n",
       "       [ 0.09989946, -0.05203819],\n",
       "       [-1.48271829, -1.4633357 ],\n",
       "       [-0.01051573, -0.09018137],\n",
       "       [ 1.20405138,  1.47368884],\n",
       "       [ 0.0630944 ,  0.29125039]])"
      ]
     },
     "execution_count": 8,
     "metadata": {},
     "output_type": "execute_result"
    }
   ],
   "source": [
    "x_train"
   ]
  },
  {
   "cell_type": "code",
   "execution_count": 9,
   "id": "9d232caf",
   "metadata": {},
   "outputs": [
    {
     "name": "stderr",
     "output_type": "stream",
     "text": [
      "c:\\ProgramData\\anaconda3\\Lib\\site-packages\\sklearn\\cluster\\_kmeans.py:1419: UserWarning: KMeans is known to have a memory leak on Windows with MKL, when there are less chunks than available threads. You can avoid it by setting the environment variable OMP_NUM_THREADS=1.\n",
      "  warnings.warn(\n",
      "c:\\ProgramData\\anaconda3\\Lib\\site-packages\\sklearn\\cluster\\_kmeans.py:1419: UserWarning: KMeans is known to have a memory leak on Windows with MKL, when there are less chunks than available threads. You can avoid it by setting the environment variable OMP_NUM_THREADS=1.\n",
      "  warnings.warn(\n",
      "c:\\ProgramData\\anaconda3\\Lib\\site-packages\\sklearn\\cluster\\_kmeans.py:1419: UserWarning: KMeans is known to have a memory leak on Windows with MKL, when there are less chunks than available threads. You can avoid it by setting the environment variable OMP_NUM_THREADS=1.\n",
      "  warnings.warn(\n",
      "c:\\ProgramData\\anaconda3\\Lib\\site-packages\\sklearn\\cluster\\_kmeans.py:1419: UserWarning: KMeans is known to have a memory leak on Windows with MKL, when there are less chunks than available threads. You can avoid it by setting the environment variable OMP_NUM_THREADS=1.\n",
      "  warnings.warn(\n",
      "c:\\ProgramData\\anaconda3\\Lib\\site-packages\\sklearn\\cluster\\_kmeans.py:1419: UserWarning: KMeans is known to have a memory leak on Windows with MKL, when there are less chunks than available threads. You can avoid it by setting the environment variable OMP_NUM_THREADS=1.\n",
      "  warnings.warn(\n",
      "c:\\ProgramData\\anaconda3\\Lib\\site-packages\\sklearn\\cluster\\_kmeans.py:1419: UserWarning: KMeans is known to have a memory leak on Windows with MKL, when there are less chunks than available threads. You can avoid it by setting the environment variable OMP_NUM_THREADS=1.\n",
      "  warnings.warn(\n",
      "c:\\ProgramData\\anaconda3\\Lib\\site-packages\\sklearn\\cluster\\_kmeans.py:1419: UserWarning: KMeans is known to have a memory leak on Windows with MKL, when there are less chunks than available threads. You can avoid it by setting the environment variable OMP_NUM_THREADS=1.\n",
      "  warnings.warn(\n",
      "c:\\ProgramData\\anaconda3\\Lib\\site-packages\\sklearn\\cluster\\_kmeans.py:1419: UserWarning: KMeans is known to have a memory leak on Windows with MKL, when there are less chunks than available threads. You can avoid it by setting the environment variable OMP_NUM_THREADS=1.\n",
      "  warnings.warn(\n",
      "c:\\ProgramData\\anaconda3\\Lib\\site-packages\\sklearn\\cluster\\_kmeans.py:1419: UserWarning: KMeans is known to have a memory leak on Windows with MKL, when there are less chunks than available threads. You can avoid it by setting the environment variable OMP_NUM_THREADS=1.\n",
      "  warnings.warn(\n"
     ]
    }
   ],
   "source": [
    "from sklearn.cluster import KMeans\n",
    "from sklearn.metrics import silhouette_score\n",
    "wcss=[]\n",
    "score=[]\n",
    "for k in range(2,11):\n",
    "  Kmeans=KMeans(n_clusters=k,init='k-means++')\n",
    "  Kmeans.fit(x_train)\n",
    "  x_pred=Kmeans.predict(x_test)\n",
    "  wcss.append(Kmeans.inertia_)\n",
    "  score.append(silhouette_score(x_test, x_pred))"
   ]
  },
  {
   "cell_type": "code",
   "execution_count": 10,
   "id": "462c0d3f",
   "metadata": {},
   "outputs": [
    {
     "data": {
      "text/plain": [
       "[199.37387337499743,\n",
       " 110.90694017259396,\n",
       " 74.96917235414034,\n",
       " 69.43103132128296,\n",
       " 40.12220574072723,\n",
       " 35.179523967747734,\n",
       " 26.625908085977084,\n",
       " 21.97658998751552,\n",
       " 19.638358186060447]"
      ]
     },
     "execution_count": 10,
     "metadata": {},
     "output_type": "execute_result"
    }
   ],
   "source": [
    "wcss"
   ]
  },
  {
   "cell_type": "code",
   "execution_count": 11,
   "id": "21e855fb",
   "metadata": {},
   "outputs": [
    {
     "data": {
      "image/png": "[encoded data removed]",
      "text/plain": [
       "<Figure size 640x480 with 1 Axes>"
      ]
     },
     "metadata": {},
     "output_type": "display_data"
    }
   ],
   "source": [
    "plt.plot(range(2,11),score)\n",
    "plt.xlabel('Number of Clusters')\n",
    "plt.ylabel('Silhouette Score')\n",
    "plt.title('Silhouette Score vs Number of Clusters')\n",
    "plt.show()\n"
   ]
  },
  {
   "cell_type": "code",
   "execution_count": 12,
   "id": "68e19e04",
   "metadata": {},
   "outputs": [
    {
     "data": {
      "image/png": "[encoded data removed]",
      "text/plain": [
       "<Figure size 640x480 with 1 Axes>"
      ]
     },
     "metadata": {},
     "output_type": "display_data"
    }
   ],
   "source": [
    "plt.plot(range(2,11),wcss)\n",
    "plt.xlabel('Number of Clusters')\n",
    "plt.ylabel('WCSS')\n",
    "plt.title('WCSS vs Number of Clusters')\n",
    "plt.show()\n"
   ]
  },
  {
   "cell_type": "code",
   "execution_count": 13,
   "id": "44075f5e",
   "metadata": {},
   "outputs": [
    {
     "data": {
      "text/plain": [
       "np.int64(6)"
      ]
     },
     "execution_count": 13,
     "metadata": {},
     "output_type": "execute_result"
    }
   ],
   "source": [
    "from kneed import KneeLocator\n",
    "kl = KneeLocator(range(2, 11), wcss, curve='convex', direction='decreasing')\n",
    "kl.elbow"
   ]
  },
  {
   "cell_type": "code",
   "execution_count": 14,
   "id": "53470ba2",
   "metadata": {},
   "outputs": [
    {
     "data": {
      "text/plain": [
       "array([4, 7, 3, 0, 0, 4, 1, 0, 0, 1, 1, 5, 8, 4, 5, 8, 1, 0, 4, 1, 0, 9,\n",
       "       0, 4, 1, 1, 1, 1, 8, 4, 7, 9, 1, 1, 0, 4, 6, 8, 0, 1, 4, 2, 9, 3,\n",
       "       4, 2, 7, 7, 6, 4, 4, 6, 7, 4, 4, 1, 0, 4, 0, 4], dtype=int32)"
      ]
     },
     "execution_count": 14,
     "metadata": {},
     "output_type": "execute_result"
    }
   ],
   "source": [
    "x_pred"
   ]
  },
  {
   "cell_type": "code",
   "execution_count": 15,
   "id": "fc58d1b3",
   "metadata": {},
   "outputs": [
    {
     "name": "stderr",
     "output_type": "stream",
     "text": [
      "c:\\ProgramData\\anaconda3\\Lib\\site-packages\\sklearn\\cluster\\_kmeans.py:1419: UserWarning: KMeans is known to have a memory leak on Windows with MKL, when there are less chunks than available threads. You can avoid it by setting the environment variable OMP_NUM_THREADS=1.\n",
      "  warnings.warn(\n"
     ]
    }
   ],
   "source": [
    "model=KMeans(n_clusters=5,init='k-means++')\n",
    "model.fit(x_train)\n",
    "x_pred=model.predict(x_test)"
   ]
  },
  {
   "cell_type": "code",
   "execution_count": 16,
   "id": "26efa47b",
   "metadata": {},
   "outputs": [
    {
     "data": {
      "text/plain": [
       "array([1, 4, 3, 0, 0, 1, 1, 0, 0, 4, 1, 0, 2, 1, 0, 2, 1, 0, 1, 1, 0, 3,\n",
       "       0, 1, 1, 1, 1, 1, 2, 1, 4, 3, 1, 1, 0, 1, 2, 2, 0, 1, 1, 2, 3, 3,\n",
       "       1, 2, 4, 4, 2, 1, 1, 2, 4, 1, 1, 1, 0, 1, 0, 1], dtype=int32)"
      ]
     },
     "execution_count": 16,
     "metadata": {},
     "output_type": "execute_result"
    }
   ],
   "source": [
    "x_pred"
   ]
  },
  {
   "cell_type": "code",
   "execution_count": 17,
   "id": "c23e9b68",
   "metadata": {},
   "outputs": [
    {
     "data": {
      "text/plain": [
       "<matplotlib.collections.PathCollection at 0x183ac0481a0>"
      ]
     },
     "execution_count": 17,
     "metadata": {},
     "output_type": "execute_result"
    },
    {
     "data": {
      "image/png": "[encoded data removed]",
      "text/plain": [
       "<Figure size 640x480 with 1 Axes>"
      ]
     },
     "metadata": {},
     "output_type": "display_data"
    }
   ],
   "source": [
    "plt.scatter(x_test[:,0], x_test[:,1], c=x_pred, cmap='viridis', label=\"Test points\")"
   ]
  },
  {
   "cell_type": "code",
   "execution_count": 18,
   "id": "547fa4a0",
   "metadata": {},
   "outputs": [
    {
     "data": {
      "text/plain": [
       "array([[ 1.14884378, -1.27782116],\n",
       "       [-0.20859389, -0.08463327],\n",
       "       [ 0.94273542,  1.20541517],\n",
       "       [-1.29436296, -1.20306461],\n",
       "       [-1.25498696,  1.06603365]])"
      ]
     },
     "execution_count": 18,
     "metadata": {},
     "output_type": "execute_result"
    }
   ],
   "source": [
    "centroid=model.cluster_centers_\n",
    "centroid\n"
   ]
  },
  {
   "cell_type": "code",
   "execution_count": 19,
   "id": "451570f7",
   "metadata": {},
   "outputs": [
    {
     "data": {
      "text/plain": [
       "array([[91.5       , 17.86363636],\n",
       "       [54.61818182, 49.14545455],\n",
       "       [85.9       , 82.96666667],\n",
       "       [25.11764706, 19.82352941],\n",
       "       [26.1875    , 79.3125    ]])"
      ]
     },
     "execution_count": 19,
     "metadata": {},
     "output_type": "execute_result"
    }
   ],
   "source": [
    "original_centres=scaler.inverse_transform(centroid)\n",
    "original_centres\n"
   ]
  },
  {
   "cell_type": "code",
   "execution_count": 20,
   "id": "4ee9de2a",
   "metadata": {},
   "outputs": [],
   "source": [
    "cluster_mapping = {\n",
    "    0: \"High income, Low spending -> Careful/Frugal Customers -> give discounts\",\n",
    "    1: \"Average income, Average spending -> Standard Customers -> give loyalty points\",\n",
    "    2: \"High income, High spending -> Target / Premium Customers -> offer premium membership\",\n",
    "    3: \"Low income, High spending -> Young/Impulsive Customers -> offer flash sales \",\n",
    "    4: \"Very High income, Low spending ->  Conservative/Rich but Not Spending ->  offer personalized services\"\n",
    "}"
   ]
  },
  {
   "cell_type": "code",
   "execution_count": 21,
   "id": "fe91de9b",
   "metadata": {},
   "outputs": [],
   "source": [
    "import pickle\n",
    "pickle.dump(model,open('kmeans.pkl','wb'))\n",
    "pickle.dump(scaler,open('scaler.pkl','wb'))\n",
    "\n"
   ]
  },
  {
   "cell_type": "code",
   "execution_count": null,
   "id": "8d89a9d7",
   "metadata": {},
   "outputs": [],
   "source": []
  }
 ],
 "metadata": {
  "kernelspec": {
   "display_name": "base",
   "language": "python",
   "name": "python3"
  },
  "language_info": {
   "codemirror_mode": {
    "name": "ipython",
    "version": 3
   },
   "file_extension": ".py",
   "mimetype": "text/x-python",
   "name": "python",
   "nbconvert_exporter": "python",
   "pygments_lexer": "ipython3",
   "version": "3.13.5"
  }
 },
 "nbformat": 4,
 "nbformat_minor": 5
}
